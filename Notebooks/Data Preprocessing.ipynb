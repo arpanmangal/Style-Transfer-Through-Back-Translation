{
 "cells": [
  {
   "cell_type": "markdown",
   "metadata": {},
   "source": [
    "## Removing useless spaces"
   ]
  },
  {
   "cell_type": "code",
   "execution_count": 1,
   "metadata": {},
   "outputs": [
    {
     "data": {
      "text/plain": [
       "['Hey', 'are', \"n't\", 'are', 'you', 'doing']"
      ]
     },
     "execution_count": 1,
     "metadata": {},
     "output_type": "execute_result"
    }
   ],
   "source": [
    "import nltk\n",
    "import re\n",
    "# nltk.download('punkt')\n",
    "\n",
    "nltk.word_tokenize(\"Hey aren't are you doing\")"
   ]
  },
  {
   "cell_type": "code",
   "execution_count": 2,
   "metadata": {},
   "outputs": [
    {
     "name": "stdout",
     "output_type": "stream",
     "text": [
      "Hey I am Yann, how are you and how is it going ? That is interesting: I would love to hear more about it.\n",
      "I will kill,  you  you\n",
      "i would have killed i.\n",
      "i would have killed will i .\n",
      "i will take shit that does not matter for\n",
      "if i was ukraine i would say you stole our crimea you can stick that debt up your ass\n"
     ]
    }
   ],
   "source": [
    "def decontracted(phrase):\n",
    "    # specific\n",
    "    phrase = re.sub(r\"won\\'t\", \"will not\", phrase)\n",
    "    phrase = re.sub(r\"can\\'t\", \"can not\", phrase)\n",
    "\n",
    "    # general\n",
    "    phrase = re.sub(r\"n\\'t\", \" not\", phrase)\n",
    "    phrase = re.sub(r\"\\'re\", \" are\", phrase)\n",
    "    phrase = re.sub(r\"\\'s\", \" is\", phrase)\n",
    "    phrase = re.sub(r\"\\'d\", \" would\", phrase)\n",
    "    phrase = re.sub(r\"\\'ll\", \" will\", phrase)\n",
    "    phrase = re.sub(r\"\\'t\", \" not\", phrase)\n",
    "    phrase = re.sub(r\"\\'ve\", \" have\", phrase)\n",
    "    phrase = re.sub(r\"\\'m\", \" am\", phrase)\n",
    "    return phrase\n",
    "\n",
    "\n",
    "test = \"Hey I'm Yann, how're you and how's it going ? That's interesting: I'd love to hear more about it.\"\n",
    "print(decontracted(test))\n",
    "\n",
    "def replace (line):\n",
    "#     line = line.capitalize()\n",
    "#     line = re.sub(\" i \", \" I \", line)\n",
    "    \n",
    "    # Joing contractions\n",
    "    contractions = [\"'ll\", \"'t\", \"'ve\", \"'s\", \"'d\", \"'re\", \"'m\"]\n",
    "    for c in contractions:\n",
    "        line = re.sub(\" \" + c + \" \", c + \" \", line)\n",
    "        \n",
    "    # Remove useless apostrophes\n",
    "    line = re.sub(r\"\"\"[\"?$!]|'(?!(?<! ')[lvdrtsm])\"\"\", \"\", line)\n",
    "\n",
    "    # Deal with the final dot\n",
    "#     line = re.sub(r\"\\.\", \" .\", line)\n",
    "    line = decontracted(line)\n",
    "    if (len (line) < 2):\n",
    "        line = \"It is good .\"\n",
    "    return line\n",
    "    \n",
    "sentences = [\n",
    "    \"I 'll kill, \\\" you ?$$?!! you\",\n",
    "    \"i would 've killed i.\",\n",
    "    \"i would 've killed 'll i .\",\n",
    "    \"i 'll take 'shit that doesn 't matter' for\",\n",
    "    \"if i was ukraine i 'd say you stole our crimea you can stick that debt up your ass\"\n",
    "]\n",
    "\n",
    "cor = []\n",
    "for s in sentences:\n",
    "    s = replace (s)\n",
    "    print (s)\n",
    "    \n"
   ]
  },
  {
   "cell_type": "code",
   "execution_count": 50,
   "metadata": {},
   "outputs": [],
   "source": [
    "outfile = open('../data/hate_proc.test.en', 'w')\n",
    "for line in open('../data/hate.test.en', 'r'):\n",
    "    line = replace (line)\n",
    "    outfile.write(line)\n",
    "    "
   ]
  },
  {
   "cell_type": "code",
   "execution_count": 52,
   "metadata": {},
   "outputs": [],
   "source": [
    "outfile = open('../data/hate_proc.dev.en', 'w')\n",
    "for line in open('../data/hate.dev.en', 'r'):\n",
    "    line = replace (line)\n",
    "    outfile.write(line)"
   ]
  },
  {
   "cell_type": "code",
   "execution_count": 54,
   "metadata": {},
   "outputs": [],
   "source": [
    "outfile = open('../data/hate_proc.train.en', 'w')\n",
    "for line in open('../data/hate.train.en', 'r'):\n",
    "    line = replace (line)\n",
    "    outfile.write(line)"
   ]
  },
  {
   "cell_type": "code",
   "execution_count": 5,
   "metadata": {},
   "outputs": [],
   "source": [
    "outfile = open('../data/classifier_proc.txt', 'w')\n",
    "for line in open('../data/classifier.txt', 'r'):\n",
    "    line = replace (line)\n",
    "    outfile.write(line)"
   ]
  },
  {
   "cell_type": "code",
   "execution_count": 4,
   "metadata": {},
   "outputs": [],
   "source": [
    "outfile = open('../data/classifier_proc.dev.txt', 'w')\n",
    "for line in open('../data/classifier.dev.txt', 'r'):\n",
    "    line = replace (line)\n",
    "    outfile.write(line)"
   ]
  },
  {
   "cell_type": "code",
   "execution_count": 4,
   "metadata": {},
   "outputs": [],
   "source": [
    "outfile = open('../data/nohate_proc.train.en', 'w')\n",
    "for line in open('../data/nohate.train.en', 'r'):\n",
    "    line = replace (line)\n",
    "    outfile.write(line)"
   ]
  },
  {
   "cell_type": "code",
   "execution_count": 15,
   "metadata": {},
   "outputs": [],
   "source": [
    "outfile = open('../data/nohate_proc.dev.en', 'w')\n",
    "for line in open('../data/nohate.dev.en', 'r'):\n",
    "    line = replace (line)\n",
    "    outfile.write(line)"
   ]
  },
  {
   "cell_type": "code",
   "execution_count": 16,
   "metadata": {},
   "outputs": [],
   "source": [
    "outfile = open('../data/nohate_proc.test.en', 'w')\n",
    "for line in open('../data/nohate.test.en', 'r'):\n",
    "    line = replace (line)\n",
    "    outfile.write(line)"
   ]
  }
 ],
 "metadata": {
  "kernelspec": {
   "display_name": "Python 3",
   "language": "python",
   "name": "python3"
  },
  "language_info": {
   "codemirror_mode": {
    "name": "ipython",
    "version": 3
   },
   "file_extension": ".py",
   "mimetype": "text/x-python",
   "name": "python",
   "nbconvert_exporter": "python",
   "pygments_lexer": "ipython3",
   "version": "3.6.8"
  }
 },
 "nbformat": 4,
 "nbformat_minor": 2
}
